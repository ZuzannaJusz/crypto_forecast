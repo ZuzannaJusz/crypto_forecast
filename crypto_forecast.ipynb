{
 "cells": [
  {
   "cell_type": "markdown",
   "metadata": {},
   "source": [
    "<h3>Cryptocurrencies forecast based on 2015-2021 dataset<h3>"
   ]
  },
  {
   "cell_type": "code",
   "execution_count": 10,
   "metadata": {},
   "outputs": [],
   "source": [
    "import pandas as pd\n",
    "import numpy as np\n",
    "import matplotlib.pyplot as plt\n",
    "%matplotlib notebook \n",
    "# enables interactive plotting in the Jupyter Notebook"
   ]
  },
  {
   "cell_type": "markdown",
   "metadata": {},
   "source": [
    "Bitcoin"
   ]
  },
  {
   "cell_type": "code",
   "execution_count": 2,
   "metadata": {},
   "outputs": [
    {
     "data": {
      "text/html": [
       "<div>\n",
       "<style scoped>\n",
       "    .dataframe tbody tr th:only-of-type {\n",
       "        vertical-align: middle;\n",
       "    }\n",
       "\n",
       "    .dataframe tbody tr th {\n",
       "        vertical-align: top;\n",
       "    }\n",
       "\n",
       "    .dataframe thead th {\n",
       "        text-align: right;\n",
       "    }\n",
       "</style>\n",
       "<table border=\"1\" class=\"dataframe\">\n",
       "  <thead>\n",
       "    <tr style=\"text-align: right;\">\n",
       "      <th></th>\n",
       "      <th>Date</th>\n",
       "      <th>Open</th>\n",
       "      <th>High</th>\n",
       "      <th>Low</th>\n",
       "      <th>Close</th>\n",
       "      <th>Adj Close</th>\n",
       "      <th>Volume</th>\n",
       "    </tr>\n",
       "  </thead>\n",
       "  <tbody>\n",
       "    <tr>\n",
       "      <th>0</th>\n",
       "      <td>2015-09-13</td>\n",
       "      <td>235.242004</td>\n",
       "      <td>235.934998</td>\n",
       "      <td>229.332001</td>\n",
       "      <td>230.511993</td>\n",
       "      <td>230.511993</td>\n",
       "      <td>18478800.0</td>\n",
       "    </tr>\n",
       "    <tr>\n",
       "      <th>1</th>\n",
       "      <td>2015-09-14</td>\n",
       "      <td>230.608994</td>\n",
       "      <td>232.440002</td>\n",
       "      <td>227.960999</td>\n",
       "      <td>230.643997</td>\n",
       "      <td>230.643997</td>\n",
       "      <td>20997800.0</td>\n",
       "    </tr>\n",
       "    <tr>\n",
       "      <th>2</th>\n",
       "      <td>2015-09-15</td>\n",
       "      <td>230.492004</td>\n",
       "      <td>259.182007</td>\n",
       "      <td>229.822006</td>\n",
       "      <td>230.304001</td>\n",
       "      <td>230.304001</td>\n",
       "      <td>19177800.0</td>\n",
       "    </tr>\n",
       "    <tr>\n",
       "      <th>3</th>\n",
       "      <td>2015-09-16</td>\n",
       "      <td>230.250000</td>\n",
       "      <td>231.214996</td>\n",
       "      <td>227.401993</td>\n",
       "      <td>229.091003</td>\n",
       "      <td>229.091003</td>\n",
       "      <td>20144200.0</td>\n",
       "    </tr>\n",
       "    <tr>\n",
       "      <th>4</th>\n",
       "      <td>2015-09-17</td>\n",
       "      <td>229.076004</td>\n",
       "      <td>230.285004</td>\n",
       "      <td>228.925995</td>\n",
       "      <td>229.809998</td>\n",
       "      <td>229.809998</td>\n",
       "      <td>18935400.0</td>\n",
       "    </tr>\n",
       "  </tbody>\n",
       "</table>\n",
       "</div>"
      ],
      "text/plain": [
       "         Date        Open        High         Low       Close   Adj Close  \\\n",
       "0  2015-09-13  235.242004  235.934998  229.332001  230.511993  230.511993   \n",
       "1  2015-09-14  230.608994  232.440002  227.960999  230.643997  230.643997   \n",
       "2  2015-09-15  230.492004  259.182007  229.822006  230.304001  230.304001   \n",
       "3  2015-09-16  230.250000  231.214996  227.401993  229.091003  229.091003   \n",
       "4  2015-09-17  229.076004  230.285004  228.925995  229.809998  229.809998   \n",
       "\n",
       "       Volume  \n",
       "0  18478800.0  \n",
       "1  20997800.0  \n",
       "2  19177800.0  \n",
       "3  20144200.0  \n",
       "4  18935400.0  "
      ]
     },
     "execution_count": 2,
     "metadata": {},
     "output_type": "execute_result"
    }
   ],
   "source": [
    "# import dataset\n",
    "bitcoin_df = pd.read_csv(r\"C:\\Users\\Zuzanna\\Desktop\\Nowy folder\\projects\\crypto_forecast\\archive\\Bitcoin\\BTC-USD.csv\")\n",
    "bitcoin_df.head()\n",
    "                         "
   ]
  },
  {
   "cell_type": "code",
   "execution_count": 3,
   "metadata": {},
   "outputs": [
    {
     "name": "stdout",
     "output_type": "stream",
     "text": [
      "<class 'pandas.core.frame.DataFrame'>\n",
      "RangeIndex: 2193 entries, 0 to 2192\n",
      "Data columns (total 7 columns):\n",
      " #   Column     Non-Null Count  Dtype  \n",
      "---  ------     --------------  -----  \n",
      " 0   Date       2193 non-null   object \n",
      " 1   Open       2189 non-null   float64\n",
      " 2   High       2189 non-null   float64\n",
      " 3   Low        2189 non-null   float64\n",
      " 4   Close      2189 non-null   float64\n",
      " 5   Adj Close  2189 non-null   float64\n",
      " 6   Volume     2189 non-null   float64\n",
      "dtypes: float64(6), object(1)\n",
      "memory usage: 120.1+ KB\n"
     ]
    },
    {
     "data": {
      "text/plain": [
       "Date         0\n",
       "Open         4\n",
       "High         4\n",
       "Low          4\n",
       "Close        4\n",
       "Adj Close    4\n",
       "Volume       4\n",
       "dtype: int64"
      ]
     },
     "execution_count": 3,
     "metadata": {},
     "output_type": "execute_result"
    }
   ],
   "source": [
    "# get info about NA values\n",
    "bitcoin_df.info()\n",
    "bitcoin_df.isna().sum()"
   ]
  },
  {
   "cell_type": "code",
   "execution_count": 4,
   "metadata": {},
   "outputs": [],
   "source": [
    "# filling missing data\n",
    "bitcoin_df.fillna(method='ffill', inplace=True)"
   ]
  },
  {
   "cell_type": "code",
   "execution_count": 5,
   "metadata": {},
   "outputs": [
    {
     "data": {
      "text/plain": [
       "Date         0\n",
       "Open         0\n",
       "High         0\n",
       "Low          0\n",
       "Close        0\n",
       "Adj Close    0\n",
       "Volume       0\n",
       "dtype: int64"
      ]
     },
     "execution_count": 5,
     "metadata": {},
     "output_type": "execute_result"
    }
   ],
   "source": [
    "# checking NA values again\n",
    "bitcoin_df.isna().sum()"
   ]
  },
  {
   "cell_type": "code",
   "execution_count": 6,
   "metadata": {},
   "outputs": [
    {
     "data": {
      "text/plain": [
       "0"
      ]
     },
     "execution_count": 6,
     "metadata": {},
     "output_type": "execute_result"
    }
   ],
   "source": [
    "# checking for duplicates\n",
    "bitcoin_df.duplicated().sum()"
   ]
  },
  {
   "cell_type": "code",
   "execution_count": 8,
   "metadata": {},
   "outputs": [
    {
     "data": {
      "text/html": [
       "<div>\n",
       "<style scoped>\n",
       "    .dataframe tbody tr th:only-of-type {\n",
       "        vertical-align: middle;\n",
       "    }\n",
       "\n",
       "    .dataframe tbody tr th {\n",
       "        vertical-align: top;\n",
       "    }\n",
       "\n",
       "    .dataframe thead th {\n",
       "        text-align: right;\n",
       "    }\n",
       "</style>\n",
       "<table border=\"1\" class=\"dataframe\">\n",
       "  <thead>\n",
       "    <tr style=\"text-align: right;\">\n",
       "      <th></th>\n",
       "      <th>date</th>\n",
       "      <th>open</th>\n",
       "      <th>high</th>\n",
       "      <th>low</th>\n",
       "      <th>close</th>\n",
       "      <th>adj_close</th>\n",
       "      <th>volume</th>\n",
       "    </tr>\n",
       "  </thead>\n",
       "  <tbody>\n",
       "    <tr>\n",
       "      <th>0</th>\n",
       "      <td>2015-09-13</td>\n",
       "      <td>235.242004</td>\n",
       "      <td>235.934998</td>\n",
       "      <td>229.332001</td>\n",
       "      <td>230.511993</td>\n",
       "      <td>230.511993</td>\n",
       "      <td>18478800.0</td>\n",
       "    </tr>\n",
       "    <tr>\n",
       "      <th>1</th>\n",
       "      <td>2015-09-14</td>\n",
       "      <td>230.608994</td>\n",
       "      <td>232.440002</td>\n",
       "      <td>227.960999</td>\n",
       "      <td>230.643997</td>\n",
       "      <td>230.643997</td>\n",
       "      <td>20997800.0</td>\n",
       "    </tr>\n",
       "    <tr>\n",
       "      <th>2</th>\n",
       "      <td>2015-09-15</td>\n",
       "      <td>230.492004</td>\n",
       "      <td>259.182007</td>\n",
       "      <td>229.822006</td>\n",
       "      <td>230.304001</td>\n",
       "      <td>230.304001</td>\n",
       "      <td>19177800.0</td>\n",
       "    </tr>\n",
       "    <tr>\n",
       "      <th>3</th>\n",
       "      <td>2015-09-16</td>\n",
       "      <td>230.250000</td>\n",
       "      <td>231.214996</td>\n",
       "      <td>227.401993</td>\n",
       "      <td>229.091003</td>\n",
       "      <td>229.091003</td>\n",
       "      <td>20144200.0</td>\n",
       "    </tr>\n",
       "    <tr>\n",
       "      <th>4</th>\n",
       "      <td>2015-09-17</td>\n",
       "      <td>229.076004</td>\n",
       "      <td>230.285004</td>\n",
       "      <td>228.925995</td>\n",
       "      <td>229.809998</td>\n",
       "      <td>229.809998</td>\n",
       "      <td>18935400.0</td>\n",
       "    </tr>\n",
       "  </tbody>\n",
       "</table>\n",
       "</div>"
      ],
      "text/plain": [
       "         date        open        high         low       close   adj_close  \\\n",
       "0  2015-09-13  235.242004  235.934998  229.332001  230.511993  230.511993   \n",
       "1  2015-09-14  230.608994  232.440002  227.960999  230.643997  230.643997   \n",
       "2  2015-09-15  230.492004  259.182007  229.822006  230.304001  230.304001   \n",
       "3  2015-09-16  230.250000  231.214996  227.401993  229.091003  229.091003   \n",
       "4  2015-09-17  229.076004  230.285004  228.925995  229.809998  229.809998   \n",
       "\n",
       "       volume  \n",
       "0  18478800.0  \n",
       "1  20997800.0  \n",
       "2  19177800.0  \n",
       "3  20144200.0  \n",
       "4  18935400.0  "
      ]
     },
     "execution_count": 8,
     "metadata": {},
     "output_type": "execute_result"
    }
   ],
   "source": [
    "# rename columns\n",
    "bitcoin_df.rename(columns = \n",
    "    {\"Date\":\"date\",\n",
    "    \"Open\":\"open\",\n",
    "    \"High\":\"high\",\n",
    "    \"Low\":\"low\",\n",
    "    \"Close\":\"close\",\n",
    "    \"Adj Close\":\"adj_close\",\n",
    "    \"Volume\":\"volume\"\n",
    "}, inplace=True\n",
    "                 )\n",
    "bitcoin_df.head()"
   ]
  },
  {
   "cell_type": "code",
   "execution_count": 11,
   "metadata": {},
   "outputs": [],
   "source": [
    "# change data format\n",
    "bitcoin_df['date'] = pd.to_datetime(bitcoin_df.date)"
   ]
  },
  {
   "cell_type": "markdown",
   "metadata": {},
   "source": [
    "Ethereum"
   ]
  },
  {
   "cell_type": "code",
   "execution_count": null,
   "metadata": {},
   "outputs": [],
   "source": [
    "ethereum_df = pd.read_csv(r\"C:\\Users\\Zuzanna\\Desktop\\Nowy folder\\projects\\crypto_forecast\\archive\\Ethereum\\ETH-USD.csv\")\n",
    "ethereum_df.head()\n",
    "ethereum_df.info()\n",
    "ethereum_df.isna().sum()"
   ]
  },
  {
   "cell_type": "code",
   "execution_count": null,
   "metadata": {},
   "outputs": [],
   "source": [
    "ethereum_df.fillna(method='ffill', inplace=True)\n",
    "ethereum_df.isna().sum()\n",
    "ethereum_df.duplicated().sum()"
   ]
  },
  {
   "cell_type": "code",
   "execution_count": null,
   "metadata": {},
   "outputs": [],
   "source": [
    "ethereum_df.rename(columns = \n",
    "    {\"Date\":\"date\",\n",
    "    \"Open\":\"open\",\n",
    "    \"High\":\"high\",\n",
    "    \"Low\":\"low\",\n",
    "    \"Close\":\"close\",\n",
    "    \"Adj Close\":\"adj_close\",\n",
    "    \"Volume\":\"volume\"\n",
    "}, inplace=True\n",
    "                 )\n",
    "ethereum_df.head()"
   ]
  },
  {
   "cell_type": "code",
   "execution_count": null,
   "metadata": {},
   "outputs": [],
   "source": [
    "ethereum_df['date'] = pd.to_datetime(ethereum_df.date)"
   ]
  },
  {
   "cell_type": "markdown",
   "metadata": {},
   "source": [
    "Cardano"
   ]
  },
  {
   "cell_type": "code",
   "execution_count": null,
   "metadata": {},
   "outputs": [],
   "source": [
    "cardano_df = pd.read_csv(r\"C:\\Users\\Zuzanna\\Desktop\\Nowy folder\\projects\\crypto_forecast\\archive\\Cardano\\ADA-USD.csv\")\n",
    "cardano_df.head()\n",
    "cardano_df.info()\n",
    "cardano_df.isna().sum()"
   ]
  },
  {
   "cell_type": "code",
   "execution_count": null,
   "metadata": {},
   "outputs": [],
   "source": [
    "cardano_df.fillna(method='ffill', inplace=True)\n",
    "cardano_df.isna().sum()\n",
    "cardano_df.duplicated().sum()"
   ]
  },
  {
   "cell_type": "code",
   "execution_count": null,
   "metadata": {},
   "outputs": [],
   "source": [
    "cardano_df.rename(columns = \n",
    "    {\"Date\":\"date\",\n",
    "    \"Open\":\"open\",\n",
    "    \"High\":\"high\",\n",
    "    \"Low\":\"low\",\n",
    "    \"Close\":\"close\",\n",
    "    \"Adj Close\":\"adj_close\",\n",
    "    \"Volume\":\"volume\"\n",
    "}, inplace=True\n",
    "                 )\n",
    "cardano_df.head()"
   ]
  },
  {
   "cell_type": "code",
   "execution_count": null,
   "metadata": {},
   "outputs": [],
   "source": [
    "cardano_df['date'] = pd.to_datetime(cardano_df.date)"
   ]
  },
  {
   "cell_type": "markdown",
   "metadata": {},
   "source": [
    "Dogecoin"
   ]
  },
  {
   "cell_type": "code",
   "execution_count": null,
   "metadata": {},
   "outputs": [],
   "source": [
    "dogecoin_df = pd.read_csv(r\"C:\\Users\\Zuzanna\\Desktop\\Nowy folder\\projects\\crypto_forecast\\archive\\Dogecoin\\DOGE-USD.csv\")\n",
    "dogecoin_df.head()\n",
    "dogecoin_df.info()\n",
    "dogecoin_df.isna().sum()"
   ]
  },
  {
   "cell_type": "code",
   "execution_count": null,
   "metadata": {},
   "outputs": [],
   "source": [
    "dogecoin_df.fillna(method='ffill', inplace=True)\n",
    "dogecoin_df.isna().sum()\n",
    "dogecoin_df.duplicated().sum()"
   ]
  },
  {
   "cell_type": "code",
   "execution_count": null,
   "metadata": {},
   "outputs": [],
   "source": [
    "dogecoin_df.rename(columns = \n",
    "    {\"Date\":\"date\",\n",
    "    \"Open\":\"open\",\n",
    "    \"High\":\"high\",\n",
    "    \"Low\":\"low\",\n",
    "    \"Close\":\"close\",\n",
    "    \"Adj Close\":\"adj_close\",\n",
    "    \"Volume\":\"volume\"\n",
    "}, inplace=True\n",
    "                 )\n",
    "dogecoin_df.head()"
   ]
  },
  {
   "cell_type": "code",
   "execution_count": null,
   "metadata": {},
   "outputs": [],
   "source": [
    "dogecoin_df['date'] = pd.to_datetime(dogecoin_df.date)"
   ]
  },
  {
   "cell_type": "markdown",
   "metadata": {},
   "source": [
    "<h3>Plots and visualization<h3>"
   ]
  }
 ],
 "metadata": {
  "kernelspec": {
   "display_name": "Python 3",
   "language": "python",
   "name": "python3"
  },
  "language_info": {
   "codemirror_mode": {
    "name": "ipython",
    "version": 3
   },
   "file_extension": ".py",
   "mimetype": "text/x-python",
   "name": "python",
   "nbconvert_exporter": "python",
   "pygments_lexer": "ipython3",
   "version": "3.8.5"
  }
 },
 "nbformat": 4,
 "nbformat_minor": 4
}
